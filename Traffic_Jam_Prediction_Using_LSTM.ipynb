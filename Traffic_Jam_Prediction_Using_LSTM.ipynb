{
  "nbformat": 4,
  "nbformat_minor": 0,
  "metadata": {
    "colab": {
      "name": "Traffic Jam Prediction Using LSTM.ipynb",
      "provenance": [],
      "collapsed_sections": []
    },
    "kernelspec": {
      "name": "python3",
      "display_name": "Python 3"
    },
    "accelerator": "TPU"
  },
  "cells": [
    {
      "cell_type": "markdown",
      "metadata": {
        "id": "y6hzdssNBoZ6"
      },
      "source": [
        "# **Traffic Jam Prediction Using LSTM**\n",
        "\n",
        "**Dataset: Waze Open Data of Traffic Incidents**\n",
        "\n",
        "Project By: Vivin T "
      ]
    },
    {
      "cell_type": "markdown",
      "metadata": {
        "id": "Iu8t1ZXewRiM"
      },
      "source": [
        "Import the necessary Libraries"
      ]
    },
    {
      "cell_type": "code",
      "metadata": {
        "id": "VfLkYmlDRMp9"
      },
      "source": [
        "import pandas as pd\n",
        "import pickle\n",
        "from pathlib import Path\n",
        "import numpy as np\n",
        "import matplotlib.pyplot as plt\n",
        "from keras.preprocessing.sequence import pad_sequences\n",
        "from keras.models import Sequential\n",
        "from keras.layers import Embedding, Flatten, Dense, LSTM"
      ],
      "execution_count": 56,
      "outputs": []
    },
    {
      "cell_type": "markdown",
      "metadata": {
        "id": "w71gdCbDw0EW"
      },
      "source": [
        "Setting Data Path"
      ]
    },
    {
      "cell_type": "code",
      "metadata": {
        "id": "96aIaqhpM0b3"
      },
      "source": [
        "data_dir = Path(\"/content\")"
      ],
      "execution_count": 57,
      "outputs": []
    },
    {
      "cell_type": "markdown",
      "metadata": {
        "id": "rkUUJRESyGu8"
      },
      "source": [
        "Loading the Dataset"
      ]
    },
    {
      "cell_type": "code",
      "metadata": {
        "id": "Y2XkvZrYHPnS"
      },
      "source": [
        "with open(data_dir / 'data.pickle', 'rb') as f:\n",
        "    [event_dict, df] = pickle.load(f)"
      ],
      "execution_count": 58,
      "outputs": []
    },
    {
      "cell_type": "markdown",
      "metadata": {
        "id": "aMuIy9HQyLeN"
      },
      "source": [
        "Printing the events"
      ]
    },
    {
      "cell_type": "code",
      "metadata": {
        "id": "uIfsslVMHWNc",
        "colab": {
          "base_uri": "https://localhost:8080/"
        },
        "outputId": "4cab1d4b-e0ad-46b6-c371-d1cb667cdcf3"
      },
      "source": [
        "event_dict"
      ],
      "execution_count": 59,
      "outputs": [
        {
          "output_type": "execute_result",
          "data": {
            "text/plain": [
              "{1: 'road closed due to construction',\n",
              " 2: 'traffic jam',\n",
              " 3: 'stopped car on the shoulder',\n",
              " 4: 'road closed',\n",
              " 5: 'other',\n",
              " 6: 'object on roadway',\n",
              " 7: 'major event',\n",
              " 8: 'pothole',\n",
              " 9: 'traffic heavier than normal',\n",
              " 10: 'road construction',\n",
              " 11: 'fog',\n",
              " 12: 'accident',\n",
              " 13: 'slowdown',\n",
              " 14: 'stopped car',\n",
              " 15: 'small traffic jam',\n",
              " 16: 'stopped traffic',\n",
              " 17: 'heavy traffic',\n",
              " 18: 'minor accident',\n",
              " 19: 'medium traffic jam',\n",
              " 20: 'malfunctioning traffic light',\n",
              " 21: 'missing sign on the shoulder',\n",
              " 22: 'animal on the shoulder',\n",
              " 23: 'animal struck',\n",
              " 24: 'large traffic jam',\n",
              " 25: 'hazard on the shoulder',\n",
              " 26: 'hazard on road',\n",
              " 27: 'ice on roadway',\n",
              " 28: 'weather hazard',\n",
              " 29: 'flooding',\n",
              " 30: 'road closed due to hazard',\n",
              " 31: 'hail',\n",
              " 32: 'huge traffic jam'}"
            ]
          },
          "metadata": {},
          "execution_count": 59
        }
      ]
    },
    {
      "cell_type": "code",
      "metadata": {
        "id": "1gkMaCEkRr-u",
        "colab": {
          "base_uri": "https://localhost:8080/",
          "height": 355
        },
        "outputId": "e9c91da3-7bca-4d08-d172-d6081293b1f3"
      },
      "source": [
        "df.head(10)"
      ],
      "execution_count": 60,
      "outputs": [
        {
          "output_type": "execute_result",
          "data": {
            "text/html": [
              "<div>\n",
              "<style scoped>\n",
              "    .dataframe tbody tr th:only-of-type {\n",
              "        vertical-align: middle;\n",
              "    }\n",
              "\n",
              "    .dataframe tbody tr th {\n",
              "        vertical-align: top;\n",
              "    }\n",
              "\n",
              "    .dataframe thead th {\n",
              "        text-align: right;\n",
              "    }\n",
              "</style>\n",
              "<table border=\"1\" class=\"dataframe\">\n",
              "  <thead>\n",
              "    <tr style=\"text-align: right;\">\n",
              "      <th></th>\n",
              "      <th>label</th>\n",
              "      <th>events</th>\n",
              "    </tr>\n",
              "  </thead>\n",
              "  <tbody>\n",
              "    <tr>\n",
              "      <th>0</th>\n",
              "      <td>1</td>\n",
              "      <td>[traffic heavier than normal, heavy traffic, m...</td>\n",
              "    </tr>\n",
              "    <tr>\n",
              "      <th>1</th>\n",
              "      <td>1</td>\n",
              "      <td>[traffic jam, road construction, stopped car o...</td>\n",
              "    </tr>\n",
              "    <tr>\n",
              "      <th>2</th>\n",
              "      <td>1</td>\n",
              "      <td>[traffic jam]</td>\n",
              "    </tr>\n",
              "    <tr>\n",
              "      <th>3</th>\n",
              "      <td>1</td>\n",
              "      <td>[traffic jam]</td>\n",
              "    </tr>\n",
              "    <tr>\n",
              "      <th>4</th>\n",
              "      <td>1</td>\n",
              "      <td>[traffic jam, traffic jam, traffic jam, traffi...</td>\n",
              "    </tr>\n",
              "    <tr>\n",
              "      <th>5</th>\n",
              "      <td>1</td>\n",
              "      <td>[stopped car on the shoulder, traffic jam, hea...</td>\n",
              "    </tr>\n",
              "    <tr>\n",
              "      <th>6</th>\n",
              "      <td>1</td>\n",
              "      <td>[stopped car on the shoulder, traffic jam, hea...</td>\n",
              "    </tr>\n",
              "    <tr>\n",
              "      <th>7</th>\n",
              "      <td>1</td>\n",
              "      <td>[traffic jam, small traffic jam, traffic jam, ...</td>\n",
              "    </tr>\n",
              "    <tr>\n",
              "      <th>8</th>\n",
              "      <td>1</td>\n",
              "      <td>[heavy traffic, traffic jam, traffic jam, stop...</td>\n",
              "    </tr>\n",
              "    <tr>\n",
              "      <th>9</th>\n",
              "      <td>1</td>\n",
              "      <td>[heavy traffic, traffic jam, traffic jam, stop...</td>\n",
              "    </tr>\n",
              "  </tbody>\n",
              "</table>\n",
              "</div>"
            ],
            "text/plain": [
              "   label                                             events\n",
              "0      1  [traffic heavier than normal, heavy traffic, m...\n",
              "1      1  [traffic jam, road construction, stopped car o...\n",
              "2      1                                      [traffic jam]\n",
              "3      1                                      [traffic jam]\n",
              "4      1  [traffic jam, traffic jam, traffic jam, traffi...\n",
              "5      1  [stopped car on the shoulder, traffic jam, hea...\n",
              "6      1  [stopped car on the shoulder, traffic jam, hea...\n",
              "7      1  [traffic jam, small traffic jam, traffic jam, ...\n",
              "8      1  [heavy traffic, traffic jam, traffic jam, stop...\n",
              "9      1  [heavy traffic, traffic jam, traffic jam, stop..."
            ]
          },
          "metadata": {},
          "execution_count": 60
        }
      ]
    },
    {
      "cell_type": "code",
      "metadata": {
        "id": "cL1Ilf5r1DGs",
        "colab": {
          "base_uri": "https://localhost:8080/",
          "height": 355
        },
        "outputId": "18577292-11b7-41f5-c825-606945339c95"
      },
      "source": [
        "df.tail(10)"
      ],
      "execution_count": 61,
      "outputs": [
        {
          "output_type": "execute_result",
          "data": {
            "text/html": [
              "<div>\n",
              "<style scoped>\n",
              "    .dataframe tbody tr th:only-of-type {\n",
              "        vertical-align: middle;\n",
              "    }\n",
              "\n",
              "    .dataframe tbody tr th {\n",
              "        vertical-align: top;\n",
              "    }\n",
              "\n",
              "    .dataframe thead th {\n",
              "        text-align: right;\n",
              "    }\n",
              "</style>\n",
              "<table border=\"1\" class=\"dataframe\">\n",
              "  <thead>\n",
              "    <tr style=\"text-align: right;\">\n",
              "      <th></th>\n",
              "      <th>label</th>\n",
              "      <th>events</th>\n",
              "    </tr>\n",
              "  </thead>\n",
              "  <tbody>\n",
              "    <tr>\n",
              "      <th>851</th>\n",
              "      <td>0</td>\n",
              "      <td>[traffic jam, traffic jam, traffic jam]</td>\n",
              "    </tr>\n",
              "    <tr>\n",
              "      <th>852</th>\n",
              "      <td>0</td>\n",
              "      <td>[stopped traffic, traffic jam, stopped traffic]</td>\n",
              "    </tr>\n",
              "    <tr>\n",
              "      <th>853</th>\n",
              "      <td>0</td>\n",
              "      <td>[stopped car on the shoulder, stopped traffic,...</td>\n",
              "    </tr>\n",
              "    <tr>\n",
              "      <th>854</th>\n",
              "      <td>0</td>\n",
              "      <td>[stopped traffic]</td>\n",
              "    </tr>\n",
              "    <tr>\n",
              "      <th>855</th>\n",
              "      <td>0</td>\n",
              "      <td>[stopped car on the shoulder, stopped car on t...</td>\n",
              "    </tr>\n",
              "    <tr>\n",
              "      <th>856</th>\n",
              "      <td>0</td>\n",
              "      <td>[heavy traffic, heavy traffic, heavy traffic, ...</td>\n",
              "    </tr>\n",
              "    <tr>\n",
              "      <th>857</th>\n",
              "      <td>0</td>\n",
              "      <td>[traffic jam, traffic jam]</td>\n",
              "    </tr>\n",
              "    <tr>\n",
              "      <th>858</th>\n",
              "      <td>0</td>\n",
              "      <td>[traffic jam, traffic jam, traffic heavier tha...</td>\n",
              "    </tr>\n",
              "    <tr>\n",
              "      <th>859</th>\n",
              "      <td>0</td>\n",
              "      <td>[heavy traffic, stopped car on the shoulder, t...</td>\n",
              "    </tr>\n",
              "    <tr>\n",
              "      <th>860</th>\n",
              "      <td>0</td>\n",
              "      <td>[heavy traffic, stopped car on the shoulder, s...</td>\n",
              "    </tr>\n",
              "  </tbody>\n",
              "</table>\n",
              "</div>"
            ],
            "text/plain": [
              "     label                                             events\n",
              "851      0            [traffic jam, traffic jam, traffic jam]\n",
              "852      0    [stopped traffic, traffic jam, stopped traffic]\n",
              "853      0  [stopped car on the shoulder, stopped traffic,...\n",
              "854      0                                  [stopped traffic]\n",
              "855      0  [stopped car on the shoulder, stopped car on t...\n",
              "856      0  [heavy traffic, heavy traffic, heavy traffic, ...\n",
              "857      0                         [traffic jam, traffic jam]\n",
              "858      0  [traffic jam, traffic jam, traffic heavier tha...\n",
              "859      0  [heavy traffic, stopped car on the shoulder, t...\n",
              "860      0  [heavy traffic, stopped car on the shoulder, s..."
            ]
          },
          "metadata": {},
          "execution_count": 61
        }
      ]
    },
    {
      "cell_type": "markdown",
      "metadata": {
        "id": "F5JlyIv8zHgq"
      },
      "source": [
        "Getting the index of the largest value"
      ]
    },
    {
      "cell_type": "code",
      "metadata": {
        "id": "gYGxx2EwyShi",
        "colab": {
          "base_uri": "https://localhost:8080/"
        },
        "outputId": "c7cd54b9-f61e-4b5a-9224-76618ff372dd"
      },
      "source": [
        "max_len_event_id = df.events.apply(len).idxmax()\n",
        "max_len_event_id"
      ],
      "execution_count": 62,
      "outputs": [
        {
          "output_type": "execute_result",
          "data": {
            "text/plain": [
              "105"
            ]
          },
          "metadata": {},
          "execution_count": 62
        }
      ]
    },
    {
      "cell_type": "markdown",
      "metadata": {
        "id": "KQZCQMYAzL5g"
      },
      "source": [
        "Printing the row with the longest sequence\n"
      ]
    },
    {
      "cell_type": "code",
      "metadata": {
        "id": "fdtdsYxfHaIf",
        "colab": {
          "base_uri": "https://localhost:8080/"
        },
        "outputId": "4cc789f5-abca-442b-e58f-2c912572dd96"
      },
      "source": [
        "max_len_event = df.iloc[max_len_event_id]\n",
        "max_len_event.events"
      ],
      "execution_count": 63,
      "outputs": [
        {
          "output_type": "execute_result",
          "data": {
            "text/plain": [
              "['stopped car on the shoulder',\n",
              " 'heavy traffic',\n",
              " 'heavy traffic',\n",
              " 'heavy traffic',\n",
              " 'slowdown',\n",
              " 'stopped traffic',\n",
              " 'heavy traffic',\n",
              " 'heavy traffic',\n",
              " 'heavy traffic',\n",
              " 'heavy traffic',\n",
              " 'traffic heavier than normal',\n",
              " 'stopped car on the shoulder',\n",
              " 'traffic jam',\n",
              " 'heavy traffic',\n",
              " 'stopped traffic',\n",
              " 'stopped traffic',\n",
              " 'stopped traffic',\n",
              " 'heavy traffic',\n",
              " 'traffic jam',\n",
              " 'stopped car on the shoulder',\n",
              " 'stopped traffic',\n",
              " 'stopped traffic',\n",
              " 'stopped traffic',\n",
              " 'heavy traffic',\n",
              " 'traffic heavier than normal',\n",
              " 'traffic heavier than normal',\n",
              " 'traffic heavier than normal',\n",
              " 'traffic heavier than normal',\n",
              " 'heavy traffic',\n",
              " 'stopped traffic',\n",
              " 'traffic heavier than normal',\n",
              " 'pothole',\n",
              " 'stopped car on the shoulder',\n",
              " 'traffic jam',\n",
              " 'slowdown',\n",
              " 'stopped traffic',\n",
              " 'heavy traffic',\n",
              " 'traffic heavier than normal',\n",
              " 'traffic jam',\n",
              " 'traffic jam',\n",
              " 'stopped car on the shoulder',\n",
              " 'major event',\n",
              " 'traffic jam',\n",
              " 'traffic jam',\n",
              " 'stopped traffic',\n",
              " 'heavy traffic',\n",
              " 'traffic heavier than normal',\n",
              " 'stopped car on the shoulder',\n",
              " 'slowdown',\n",
              " 'heavy traffic',\n",
              " 'heavy traffic',\n",
              " 'stopped car on the shoulder',\n",
              " 'traffic jam',\n",
              " 'slowdown',\n",
              " 'slowdown',\n",
              " 'heavy traffic',\n",
              " 'stopped car on the shoulder',\n",
              " 'heavy traffic',\n",
              " 'minor accident',\n",
              " 'stopped car on the shoulder',\n",
              " 'heavy traffic',\n",
              " 'stopped car on the shoulder',\n",
              " 'heavy traffic',\n",
              " 'stopped traffic',\n",
              " 'heavy traffic',\n",
              " 'traffic heavier than normal',\n",
              " 'heavy traffic',\n",
              " 'stopped car on the shoulder',\n",
              " 'traffic heavier than normal',\n",
              " 'stopped traffic',\n",
              " 'heavy traffic',\n",
              " 'heavy traffic',\n",
              " 'heavy traffic',\n",
              " 'stopped car on the shoulder',\n",
              " 'slowdown',\n",
              " 'stopped traffic',\n",
              " 'heavy traffic',\n",
              " 'stopped car on the shoulder',\n",
              " 'traffic heavier than normal',\n",
              " 'heavy traffic',\n",
              " 'minor accident',\n",
              " 'major event',\n",
              " 'stopped car on the shoulder',\n",
              " 'stopped car on the shoulder']"
            ]
          },
          "metadata": {},
          "execution_count": 63
        }
      ]
    },
    {
      "cell_type": "markdown",
      "metadata": {
        "id": "6msS-JtBzlJb"
      },
      "source": [
        "**Printing the length of the longest row**\n"
      ]
    },
    {
      "cell_type": "code",
      "metadata": {
        "id": "RxJCwOZkIVN8",
        "colab": {
          "base_uri": "https://localhost:8080/"
        },
        "outputId": "fc9695bd-45d8-4a4c-b913-07e1e02bb694"
      },
      "source": [
        "maxlen = len(max_len_event.events)\n",
        "maxlen"
      ],
      "execution_count": 64,
      "outputs": [
        {
          "output_type": "execute_result",
          "data": {
            "text/plain": [
              "84"
            ]
          },
          "metadata": {},
          "execution_count": 64
        }
      ]
    },
    {
      "cell_type": "markdown",
      "metadata": {
        "id": "n1DtEbT5zvk2"
      },
      "source": [
        "Converting the \"index:event\" format into \"event:index\" format"
      ]
    },
    {
      "cell_type": "code",
      "metadata": {
        "id": "Ri-JNvFaJn07"
      },
      "source": [
        "reversed_dict = {}\n",
        "for k, v in event_dict.items():\n",
        "  reversed_dict[v] = k"
      ],
      "execution_count": 65,
      "outputs": []
    },
    {
      "cell_type": "code",
      "metadata": {
        "id": "m6vkEi62KdRD",
        "colab": {
          "base_uri": "https://localhost:8080/"
        },
        "outputId": "1b92f239-d065-46de-da33-43fa6645385e"
      },
      "source": [
        "reversed_dict"
      ],
      "execution_count": 66,
      "outputs": [
        {
          "output_type": "execute_result",
          "data": {
            "text/plain": [
              "{'accident': 12,\n",
              " 'animal on the shoulder': 22,\n",
              " 'animal struck': 23,\n",
              " 'flooding': 29,\n",
              " 'fog': 11,\n",
              " 'hail': 31,\n",
              " 'hazard on road': 26,\n",
              " 'hazard on the shoulder': 25,\n",
              " 'heavy traffic': 17,\n",
              " 'huge traffic jam': 32,\n",
              " 'ice on roadway': 27,\n",
              " 'large traffic jam': 24,\n",
              " 'major event': 7,\n",
              " 'malfunctioning traffic light': 20,\n",
              " 'medium traffic jam': 19,\n",
              " 'minor accident': 18,\n",
              " 'missing sign on the shoulder': 21,\n",
              " 'object on roadway': 6,\n",
              " 'other': 5,\n",
              " 'pothole': 8,\n",
              " 'road closed': 4,\n",
              " 'road closed due to construction': 1,\n",
              " 'road closed due to hazard': 30,\n",
              " 'road construction': 10,\n",
              " 'slowdown': 13,\n",
              " 'small traffic jam': 15,\n",
              " 'stopped car': 14,\n",
              " 'stopped car on the shoulder': 3,\n",
              " 'stopped traffic': 16,\n",
              " 'traffic heavier than normal': 9,\n",
              " 'traffic jam': 2,\n",
              " 'weather hazard': 28}"
            ]
          },
          "metadata": {},
          "execution_count": 66
        }
      ]
    },
    {
      "cell_type": "markdown",
      "metadata": {
        "id": "ULzmwzfT0VXm"
      },
      "source": [
        "Converting List of Events into List of Numbers "
      ]
    },
    {
      "cell_type": "code",
      "metadata": {
        "id": "3GfoOc-tID2N"
      },
      "source": [
        "def map_event_list_to_idxs(event_list):\n",
        "  list_idxs = []\n",
        "  for event in (event_list):\n",
        "    idx = reversed_dict[event]\n",
        "    list_idxs.append(idx)\n",
        "  return list_idxs"
      ],
      "execution_count": 67,
      "outputs": []
    },
    {
      "cell_type": "code",
      "metadata": {
        "id": "F6pr4SnBKzmC",
        "colab": {
          "base_uri": "https://localhost:8080/"
        },
        "outputId": "6383c84b-b76c-4894-eb59-0d90169ef668"
      },
      "source": [
        "map_event_list_to_idxs(max_len_event.events)"
      ],
      "execution_count": 68,
      "outputs": [
        {
          "output_type": "execute_result",
          "data": {
            "text/plain": [
              "[3,\n",
              " 17,\n",
              " 17,\n",
              " 17,\n",
              " 13,\n",
              " 16,\n",
              " 17,\n",
              " 17,\n",
              " 17,\n",
              " 17,\n",
              " 9,\n",
              " 3,\n",
              " 2,\n",
              " 17,\n",
              " 16,\n",
              " 16,\n",
              " 16,\n",
              " 17,\n",
              " 2,\n",
              " 3,\n",
              " 16,\n",
              " 16,\n",
              " 16,\n",
              " 17,\n",
              " 9,\n",
              " 9,\n",
              " 9,\n",
              " 9,\n",
              " 17,\n",
              " 16,\n",
              " 9,\n",
              " 8,\n",
              " 3,\n",
              " 2,\n",
              " 13,\n",
              " 16,\n",
              " 17,\n",
              " 9,\n",
              " 2,\n",
              " 2,\n",
              " 3,\n",
              " 7,\n",
              " 2,\n",
              " 2,\n",
              " 16,\n",
              " 17,\n",
              " 9,\n",
              " 3,\n",
              " 13,\n",
              " 17,\n",
              " 17,\n",
              " 3,\n",
              " 2,\n",
              " 13,\n",
              " 13,\n",
              " 17,\n",
              " 3,\n",
              " 17,\n",
              " 18,\n",
              " 3,\n",
              " 17,\n",
              " 3,\n",
              " 17,\n",
              " 16,\n",
              " 17,\n",
              " 9,\n",
              " 17,\n",
              " 3,\n",
              " 9,\n",
              " 16,\n",
              " 17,\n",
              " 17,\n",
              " 17,\n",
              " 3,\n",
              " 13,\n",
              " 16,\n",
              " 17,\n",
              " 3,\n",
              " 9,\n",
              " 17,\n",
              " 18,\n",
              " 7,\n",
              " 3,\n",
              " 3]"
            ]
          },
          "metadata": {},
          "execution_count": 68
        }
      ]
    },
    {
      "cell_type": "code",
      "metadata": {
        "id": "ajB5HN24LFVp",
        "colab": {
          "base_uri": "https://localhost:8080/"
        },
        "outputId": "76e89450-d96f-4bae-d3f6-277cdc7d996b"
      },
      "source": [
        "len(event_dict)"
      ],
      "execution_count": 69,
      "outputs": [
        {
          "output_type": "execute_result",
          "data": {
            "text/plain": [
              "32"
            ]
          },
          "metadata": {},
          "execution_count": 69
        }
      ]
    },
    {
      "cell_type": "markdown",
      "metadata": {
        "id": "QIQCaIOI1LeO"
      },
      "source": [
        "Converting all the sequences into Numbers "
      ]
    },
    {
      "cell_type": "code",
      "metadata": {
        "id": "F7Lpii1pMVCe",
        "colab": {
          "base_uri": "https://localhost:8080/"
        },
        "outputId": "0b674c1a-cec8-4c24-d499-3adeb6ac5ac1"
      },
      "source": [
        "df.events.apply(map_event_list_to_idxs)"
      ],
      "execution_count": 70,
      "outputs": [
        {
          "output_type": "execute_result",
          "data": {
            "text/plain": [
              "0      [9, 17, 18, 14, 13, 17, 3, 13, 16, 3, 17, 17, ...\n",
              "1                                             [2, 10, 3]\n",
              "2                                                    [2]\n",
              "3                                                    [2]\n",
              "4                               [2, 2, 2, 2, 2, 2, 2, 9]\n",
              "                             ...                        \n",
              "856                    [17, 17, 17, 2, 3, 2, 2, 2, 2, 2]\n",
              "857                                               [2, 2]\n",
              "858                                  [2, 2, 9, 17, 2, 2]\n",
              "859                            [17, 3, 2, 2, 2, 2, 2, 2]\n",
              "860    [17, 3, 3, 17, 3, 17, 2, 3, 18, 14, 3, 3, 16, ...\n",
              "Name: events, Length: 1722, dtype: object"
            ]
          },
          "metadata": {},
          "execution_count": 70
        }
      ]
    },
    {
      "cell_type": "code",
      "metadata": {
        "id": "XCZzSnwDLGs3",
        "colab": {
          "base_uri": "https://localhost:8080/"
        },
        "outputId": "29116d8a-1cab-4b58-a1cb-1f880e0d7b0f"
      },
      "source": [
        "sequences = df.events.apply(map_event_list_to_idxs).tolist()\n",
        "sequences[:5]"
      ],
      "execution_count": 71,
      "outputs": [
        {
          "output_type": "execute_result",
          "data": {
            "text/plain": [
              "[[9,\n",
              "  17,\n",
              "  18,\n",
              "  14,\n",
              "  13,\n",
              "  17,\n",
              "  3,\n",
              "  13,\n",
              "  16,\n",
              "  3,\n",
              "  17,\n",
              "  17,\n",
              "  16,\n",
              "  3,\n",
              "  16,\n",
              "  17,\n",
              "  9,\n",
              "  17,\n",
              "  2,\n",
              "  17,\n",
              "  2,\n",
              "  7,\n",
              "  16,\n",
              "  17,\n",
              "  17,\n",
              "  17,\n",
              "  17,\n",
              "  13,\n",
              "  5,\n",
              "  17,\n",
              "  9,\n",
              "  9,\n",
              "  16,\n",
              "  16,\n",
              "  3],\n",
              " [2, 10, 3],\n",
              " [2],\n",
              " [2],\n",
              " [2, 2, 2, 2, 2, 2, 2, 9]]"
            ]
          },
          "metadata": {},
          "execution_count": 71
        }
      ]
    },
    {
      "cell_type": "markdown",
      "metadata": {
        "id": "0SHRDKX31jB7"
      },
      "source": [
        "Padding shorter sequences with 0s till length of the longest row to make the input data share the same length"
      ]
    },
    {
      "cell_type": "code",
      "metadata": {
        "id": "3_VIVUvBUYnn",
        "colab": {
          "base_uri": "https://localhost:8080/"
        },
        "outputId": "29d0db1e-9bf3-411d-eaa7-eb966bb9e5b8"
      },
      "source": [
        "data = pad_sequences(sequences, maxlen=maxlen)\n",
        "data"
      ],
      "execution_count": 72,
      "outputs": [
        {
          "output_type": "execute_result",
          "data": {
            "text/plain": [
              "array([[ 0,  0,  0, ..., 16, 16,  3],\n",
              "       [ 0,  0,  0, ...,  2, 10,  3],\n",
              "       [ 0,  0,  0, ...,  0,  0,  2],\n",
              "       ...,\n",
              "       [ 0,  0,  0, ..., 17,  2,  2],\n",
              "       [ 0,  0,  0, ...,  2,  2,  2],\n",
              "       [ 0,  0,  0, ...,  3,  3,  2]], dtype=int32)"
            ]
          },
          "metadata": {},
          "execution_count": 72
        }
      ]
    },
    {
      "cell_type": "markdown",
      "metadata": {
        "id": "MDbistmv2DxG"
      },
      "source": [
        "Defining the labels variable"
      ]
    },
    {
      "cell_type": "code",
      "metadata": {
        "id": "jOSHPWRnUt0V"
      },
      "source": [
        "labels = np.array(df.label)"
      ],
      "execution_count": 73,
      "outputs": []
    },
    {
      "cell_type": "markdown",
      "metadata": {
        "id": "4p_m9y_H2QKM"
      },
      "source": [
        "Setting Random Seed Value"
      ]
    },
    {
      "cell_type": "code",
      "metadata": {
        "id": "PSD_-UG1B9G0"
      },
      "source": [
        "np.random.seed(12)"
      ],
      "execution_count": 74,
      "outputs": []
    },
    {
      "cell_type": "markdown",
      "metadata": {
        "id": "D9Quy7Oc2fKg"
      },
      "source": [
        "Shuffling the sequences along with their corresponding Labels"
      ]
    },
    {
      "cell_type": "code",
      "metadata": {
        "id": "gxA3cElTUzrZ"
      },
      "source": [
        "indices = np.arange(data.shape[0])\n",
        "np.random.shuffle(indices)\n",
        "data = data[indices]\n",
        "labels = labels[indices]"
      ],
      "execution_count": 75,
      "outputs": []
    },
    {
      "cell_type": "markdown",
      "metadata": {
        "id": "jQy5M5Uy4IIh"
      },
      "source": [
        "Splitting 80% Data for Training and 20% for Validation"
      ]
    },
    {
      "cell_type": "code",
      "metadata": {
        "id": "ay_11WJ-U2r0"
      },
      "source": [
        "training_samples = int(len(indices) * .8)\n",
        "validation_samples = len(indices) - training_samples"
      ],
      "execution_count": 76,
      "outputs": []
    },
    {
      "cell_type": "code",
      "metadata": {
        "id": "8PvKfu7OU4Tu"
      },
      "source": [
        "X_train = data[:training_samples]\n",
        "y_train = labels[:training_samples]\n",
        "X_valid = data[training_samples: training_samples + validation_samples]\n",
        "y_valid = labels[training_samples: training_samples + validation_samples]"
      ],
      "execution_count": 77,
      "outputs": []
    },
    {
      "cell_type": "code",
      "metadata": {
        "id": "d4ljsGj-WYrR",
        "colab": {
          "base_uri": "https://localhost:8080/"
        },
        "outputId": "ddc1208e-fca4-4cf8-a07a-df4d094c3af3"
      },
      "source": [
        "X_train"
      ],
      "execution_count": 78,
      "outputs": [
        {
          "output_type": "execute_result",
          "data": {
            "text/plain": [
              "array([[ 0,  0,  0, ..., 15, 15,  3],\n",
              "       [ 0,  0,  0, ...,  0,  2,  2],\n",
              "       [ 0,  0,  0, ...,  0,  0, 16],\n",
              "       ...,\n",
              "       [ 0,  0,  0, ...,  2, 15, 16],\n",
              "       [ 0,  0,  0, ...,  2,  2,  2],\n",
              "       [ 0,  0,  0, ...,  0,  0,  2]], dtype=int32)"
            ]
          },
          "metadata": {},
          "execution_count": 78
        }
      ]
    },
    {
      "cell_type": "code",
      "metadata": {
        "id": "MqifLVUc0Q3W"
      },
      "source": [
        "num_events = len(event_dict) + 1"
      ],
      "execution_count": 79,
      "outputs": []
    },
    {
      "cell_type": "markdown",
      "metadata": {
        "id": "Znzymcgn4olJ"
      },
      "source": [
        "Adding Embedding Layer to convert the Scalars into Vectors.Each Vector will contain 20 Scalars"
      ]
    },
    {
      "cell_type": "code",
      "metadata": {
        "id": "gYPqQ_SkWs4Z"
      },
      "source": [
        "embedding_dim = 20"
      ],
      "execution_count": 80,
      "outputs": []
    },
    {
      "cell_type": "markdown",
      "metadata": {
        "id": "hhuBbq_848nD"
      },
      "source": [
        "Generating a random intial embedding matrix"
      ]
    },
    {
      "cell_type": "code",
      "metadata": {
        "id": "1LsFlDRdWr1Y"
      },
      "source": [
        "embedding_matrix = np.random.rand(num_events, embedding_dim)"
      ],
      "execution_count": 81,
      "outputs": []
    },
    {
      "cell_type": "markdown",
      "metadata": {
        "id": "o3Y35RHS5JeR"
      },
      "source": [
        "Model Building"
      ]
    },
    {
      "cell_type": "code",
      "metadata": {
        "id": "Y4UgZAIhU6IW"
      },
      "source": [
        "units = 32\n",
        "\n",
        "model = Sequential()\n",
        "model.add(Embedding(num_events, embedding_dim))\n",
        "model.add(LSTM(units))\n",
        "model.add(Dense(1, activation='sigmoid'))"
      ],
      "execution_count": 82,
      "outputs": []
    },
    {
      "cell_type": "markdown",
      "metadata": {
        "id": "cG43uV0S7Bx4"
      },
      "source": [
        "Setting the weights of Embedding Layer as Untrainable"
      ]
    },
    {
      "cell_type": "code",
      "metadata": {
        "id": "vVX_sfo8W2wV"
      },
      "source": [
        "model.layers[0].set_weights([embedding_matrix])\n",
        "model.layers[0].trainable = False"
      ],
      "execution_count": 83,
      "outputs": []
    },
    {
      "cell_type": "markdown",
      "metadata": {
        "id": "uCK_HSDA5bTP"
      },
      "source": [
        "Training the model"
      ]
    },
    {
      "cell_type": "code",
      "metadata": {
        "id": "Vvk32LXtVEBC",
        "colab": {
          "base_uri": "https://localhost:8080/"
        },
        "outputId": "cb85cb33-3086-4827-dd80-fcc5b9a180f7"
      },
      "source": [
        "model.compile(optimizer='rmsprop',\n",
        "              loss='binary_crossentropy',\n",
        "              metrics=['acc'])\n",
        "history = model.fit(X_train, y_train,\n",
        "                    epochs=50,\n",
        "                    batch_size=32,\n",
        "                    validation_data=(X_valid, y_valid))\n",
        "model.save(\"trafficmodel-embedding-untrainable.h5\")"
      ],
      "execution_count": 84,
      "outputs": [
        {
          "output_type": "stream",
          "name": "stdout",
          "text": [
            "Epoch 1/50\n",
            "44/44 [==============================] - 4s 45ms/step - loss: 0.6724 - acc: 0.5759 - val_loss: 0.6957 - val_acc: 0.5130\n",
            "Epoch 2/50\n",
            "44/44 [==============================] - 2s 34ms/step - loss: 0.6451 - acc: 0.6158 - val_loss: 0.6764 - val_acc: 0.5652\n",
            "Epoch 3/50\n",
            "44/44 [==============================] - 2s 34ms/step - loss: 0.6208 - acc: 0.6580 - val_loss: 0.6732 - val_acc: 0.5768\n",
            "Epoch 4/50\n",
            "44/44 [==============================] - 1s 34ms/step - loss: 0.6066 - acc: 0.6812 - val_loss: 0.6822 - val_acc: 0.5246\n",
            "Epoch 5/50\n",
            "44/44 [==============================] - 1s 34ms/step - loss: 0.5900 - acc: 0.6877 - val_loss: 0.5938 - val_acc: 0.7014\n",
            "Epoch 6/50\n",
            "44/44 [==============================] - 2s 34ms/step - loss: 0.5750 - acc: 0.7081 - val_loss: 0.6841 - val_acc: 0.5478\n",
            "Epoch 7/50\n",
            "44/44 [==============================] - 2s 34ms/step - loss: 0.5695 - acc: 0.6986 - val_loss: 0.6925 - val_acc: 0.6261\n",
            "Epoch 8/50\n",
            "44/44 [==============================] - 2s 34ms/step - loss: 0.5649 - acc: 0.7102 - val_loss: 0.6627 - val_acc: 0.6029\n",
            "Epoch 9/50\n",
            "44/44 [==============================] - 2s 35ms/step - loss: 0.5553 - acc: 0.7095 - val_loss: 0.6151 - val_acc: 0.6783\n",
            "Epoch 10/50\n",
            "44/44 [==============================] - 2s 34ms/step - loss: 0.5491 - acc: 0.7219 - val_loss: 0.6347 - val_acc: 0.6290\n",
            "Epoch 11/50\n",
            "44/44 [==============================] - 2s 35ms/step - loss: 0.5499 - acc: 0.7277 - val_loss: 0.5630 - val_acc: 0.7188\n",
            "Epoch 12/50\n",
            "44/44 [==============================] - 1s 34ms/step - loss: 0.5377 - acc: 0.7269 - val_loss: 0.6194 - val_acc: 0.6754\n",
            "Epoch 13/50\n",
            "44/44 [==============================] - 2s 35ms/step - loss: 0.5393 - acc: 0.7313 - val_loss: 0.5649 - val_acc: 0.6870\n",
            "Epoch 14/50\n",
            "44/44 [==============================] - 1s 34ms/step - loss: 0.5368 - acc: 0.7197 - val_loss: 0.6672 - val_acc: 0.6232\n",
            "Epoch 15/50\n",
            "44/44 [==============================] - 1s 34ms/step - loss: 0.5373 - acc: 0.7407 - val_loss: 0.5556 - val_acc: 0.7217\n",
            "Epoch 16/50\n",
            "44/44 [==============================] - 1s 34ms/step - loss: 0.5315 - acc: 0.7371 - val_loss: 0.6252 - val_acc: 0.6551\n",
            "Epoch 17/50\n",
            "44/44 [==============================] - 2s 34ms/step - loss: 0.5241 - acc: 0.7495 - val_loss: 0.5736 - val_acc: 0.6870\n",
            "Epoch 18/50\n",
            "44/44 [==============================] - 1s 34ms/step - loss: 0.5203 - acc: 0.7451 - val_loss: 0.5844 - val_acc: 0.7014\n",
            "Epoch 19/50\n",
            "44/44 [==============================] - 2s 34ms/step - loss: 0.5146 - acc: 0.7516 - val_loss: 0.5394 - val_acc: 0.7391\n",
            "Epoch 20/50\n",
            "44/44 [==============================] - 2s 35ms/step - loss: 0.5158 - acc: 0.7487 - val_loss: 0.5647 - val_acc: 0.7072\n",
            "Epoch 21/50\n",
            "44/44 [==============================] - 2s 35ms/step - loss: 0.5146 - acc: 0.7415 - val_loss: 0.5562 - val_acc: 0.7304\n",
            "Epoch 22/50\n",
            "44/44 [==============================] - 2s 34ms/step - loss: 0.5073 - acc: 0.7538 - val_loss: 0.6107 - val_acc: 0.6812\n",
            "Epoch 23/50\n",
            "44/44 [==============================] - 2s 34ms/step - loss: 0.5111 - acc: 0.7400 - val_loss: 0.6368 - val_acc: 0.6812\n",
            "Epoch 24/50\n",
            "44/44 [==============================] - 1s 34ms/step - loss: 0.5145 - acc: 0.7538 - val_loss: 0.6044 - val_acc: 0.6667\n",
            "Epoch 25/50\n",
            "44/44 [==============================] - 2s 34ms/step - loss: 0.5064 - acc: 0.7487 - val_loss: 0.5617 - val_acc: 0.6870\n",
            "Epoch 26/50\n",
            "44/44 [==============================] - 2s 34ms/step - loss: 0.5058 - acc: 0.7560 - val_loss: 0.5661 - val_acc: 0.7188\n",
            "Epoch 27/50\n",
            "44/44 [==============================] - 2s 34ms/step - loss: 0.5025 - acc: 0.7495 - val_loss: 0.5181 - val_acc: 0.7536\n",
            "Epoch 28/50\n",
            "44/44 [==============================] - 2s 35ms/step - loss: 0.4962 - acc: 0.7618 - val_loss: 0.5687 - val_acc: 0.7159\n",
            "Epoch 29/50\n",
            "44/44 [==============================] - 1s 34ms/step - loss: 0.5074 - acc: 0.7480 - val_loss: 0.5905 - val_acc: 0.7072\n",
            "Epoch 30/50\n",
            "44/44 [==============================] - 1s 34ms/step - loss: 0.5023 - acc: 0.7466 - val_loss: 0.6687 - val_acc: 0.6812\n",
            "Epoch 31/50\n",
            "44/44 [==============================] - 2s 34ms/step - loss: 0.4950 - acc: 0.7538 - val_loss: 0.5185 - val_acc: 0.7391\n",
            "Epoch 32/50\n",
            "44/44 [==============================] - 1s 34ms/step - loss: 0.4924 - acc: 0.7633 - val_loss: 0.5291 - val_acc: 0.7391\n",
            "Epoch 33/50\n",
            "44/44 [==============================] - 2s 34ms/step - loss: 0.4925 - acc: 0.7589 - val_loss: 0.5755 - val_acc: 0.7014\n",
            "Epoch 34/50\n",
            "44/44 [==============================] - 1s 34ms/step - loss: 0.4907 - acc: 0.7734 - val_loss: 0.5377 - val_acc: 0.7478\n",
            "Epoch 35/50\n",
            "44/44 [==============================] - 2s 35ms/step - loss: 0.4868 - acc: 0.7560 - val_loss: 0.5458 - val_acc: 0.7130\n",
            "Epoch 36/50\n",
            "44/44 [==============================] - 2s 35ms/step - loss: 0.4871 - acc: 0.7749 - val_loss: 0.6111 - val_acc: 0.6812\n",
            "Epoch 37/50\n",
            "44/44 [==============================] - 2s 35ms/step - loss: 0.4876 - acc: 0.7712 - val_loss: 0.5280 - val_acc: 0.7565\n",
            "Epoch 38/50\n",
            "44/44 [==============================] - 2s 34ms/step - loss: 0.4857 - acc: 0.7683 - val_loss: 0.5303 - val_acc: 0.7507\n",
            "Epoch 39/50\n",
            "44/44 [==============================] - 2s 34ms/step - loss: 0.4774 - acc: 0.7720 - val_loss: 0.5819 - val_acc: 0.7362\n",
            "Epoch 40/50\n",
            "44/44 [==============================] - 2s 35ms/step - loss: 0.4786 - acc: 0.7683 - val_loss: 0.5524 - val_acc: 0.7478\n",
            "Epoch 41/50\n",
            "44/44 [==============================] - 2s 34ms/step - loss: 0.4798 - acc: 0.7749 - val_loss: 0.5401 - val_acc: 0.7130\n",
            "Epoch 42/50\n",
            "44/44 [==============================] - 2s 34ms/step - loss: 0.4732 - acc: 0.7720 - val_loss: 0.5446 - val_acc: 0.7159\n",
            "Epoch 43/50\n",
            "44/44 [==============================] - 2s 35ms/step - loss: 0.4796 - acc: 0.7633 - val_loss: 0.5347 - val_acc: 0.7449\n",
            "Epoch 44/50\n",
            "44/44 [==============================] - 1s 34ms/step - loss: 0.4749 - acc: 0.7720 - val_loss: 0.5333 - val_acc: 0.7159\n",
            "Epoch 45/50\n",
            "44/44 [==============================] - 2s 35ms/step - loss: 0.4756 - acc: 0.7763 - val_loss: 0.6049 - val_acc: 0.7043\n",
            "Epoch 46/50\n",
            "44/44 [==============================] - 2s 34ms/step - loss: 0.4642 - acc: 0.7778 - val_loss: 0.5177 - val_acc: 0.7507\n",
            "Epoch 47/50\n",
            "44/44 [==============================] - 2s 36ms/step - loss: 0.4718 - acc: 0.7771 - val_loss: 0.5350 - val_acc: 0.7536\n",
            "Epoch 48/50\n",
            "44/44 [==============================] - 2s 36ms/step - loss: 0.4712 - acc: 0.7749 - val_loss: 0.5284 - val_acc: 0.7449\n",
            "Epoch 49/50\n",
            "44/44 [==============================] - 2s 35ms/step - loss: 0.4643 - acc: 0.7879 - val_loss: 0.5475 - val_acc: 0.7246\n",
            "Epoch 50/50\n",
            "44/44 [==============================] - 2s 34ms/step - loss: 0.4643 - acc: 0.7865 - val_loss: 0.5467 - val_acc: 0.7507\n"
          ]
        }
      ]
    },
    {
      "cell_type": "markdown",
      "metadata": {
        "id": "vDpEqb_X6ldO"
      },
      "source": [
        "Plotting the Accuracy and Loss Curve"
      ]
    },
    {
      "cell_type": "code",
      "metadata": {
        "id": "V0KUqeWqVMCi",
        "colab": {
          "base_uri": "https://localhost:8080/",
          "height": 545
        },
        "outputId": "d9567054-b300-4076-b039-f9fce9f5d5a9"
      },
      "source": [
        "\n",
        "acc = history.history['acc']\n",
        "val_acc = history.history['val_acc']\n",
        "loss = history.history['loss']\n",
        "val_loss = history.history['val_loss']\n",
        "\n",
        "epochs = range(1, len(acc) + 1)\n",
        "\n",
        "plt.plot(epochs, acc, 'go', label='Training acc')\n",
        "plt.plot(epochs, val_acc, 'g', label='Validation acc')\n",
        "plt.title('Training and validation accuracy')\n",
        "plt.legend()\n",
        "\n",
        "plt.figure()\n",
        "\n",
        "plt.plot(epochs, loss, 'ro', label='Training loss')\n",
        "plt.plot(epochs, val_loss, 'r', label='Validation loss')\n",
        "plt.title('Training vs Validation loss')\n",
        "plt.legend()\n",
        "\n",
        "plt.show()"
      ],
      "execution_count": 85,
      "outputs": [
        {
          "output_type": "display_data",
          "data": {
            "image/png": "[encoded data removed]",
            "text/plain": [
              "<Figure size 432x288 with 1 Axes>"
            ]
          },
          "metadata": {
            "needs_background": "light"
          }
        },
        {
          "output_type": "display_data",
          "data": {
            "image/png": "[encoded data removed]",
            "text/plain": [
              "<Figure size 432x288 with 1 Axes>"
            ]
          },
          "metadata": {
            "needs_background": "light"
          }
        }
      ]
    },
    {
      "cell_type": "markdown",
      "metadata": {
        "id": "EfZhB7NA7Pj7"
      },
      "source": [
        "**We can observe that both graphs are Unstable**"
      ]
    },
    {
      "cell_type": "markdown",
      "metadata": {
        "id": "q5zeJApT7qTN"
      },
      "source": [
        "Retraining the Model by Setting the weights of Embedding Layer as Trainable"
      ]
    },
    {
      "cell_type": "code",
      "metadata": {
        "id": "U84sdc2wMKWk"
      },
      "source": [
        "\n",
        "units = 32\n",
        "\n",
        "model = Sequential()\n",
        "model.add(Embedding(num_events, embedding_dim))\n",
        "model.add(LSTM(units))\n",
        "model.add(Dense(1, activation='sigmoid'))"
      ],
      "execution_count": 86,
      "outputs": []
    },
    {
      "cell_type": "code",
      "metadata": {
        "id": "9V_vFEfVMO35"
      },
      "source": [
        "model.layers[0].set_weights([embedding_matrix])\n",
        "model.layers[0].trainable = True"
      ],
      "execution_count": 87,
      "outputs": []
    },
    {
      "cell_type": "code",
      "metadata": {
        "id": "6Y2QnUr8MQ8Q",
        "colab": {
          "base_uri": "https://localhost:8080/"
        },
        "outputId": "603259ad-7c55-4eeb-d266-1531e4a89fba"
      },
      "source": [
        "model.compile(optimizer='rmsprop',\n",
        "              loss='binary_crossentropy',\n",
        "              metrics=['acc'])\n",
        "history = model.fit(X_train, y_train,\n",
        "                    epochs=50,\n",
        "                    batch_size=32,\n",
        "                    validation_data=(X_valid, y_valid))\n",
        "model.save(\"trafficmodel-embedding-trainable.h5\")"
      ],
      "execution_count": 88,
      "outputs": [
        {
          "output_type": "stream",
          "name": "stdout",
          "text": [
            "Epoch 1/50\n",
            "44/44 [==============================] - 4s 47ms/step - loss: 0.6735 - acc: 0.6195 - val_loss: 0.6567 - val_acc: 0.6696\n",
            "Epoch 2/50\n",
            "44/44 [==============================] - 2s 37ms/step - loss: 0.6320 - acc: 0.6710 - val_loss: 0.6430 - val_acc: 0.6290\n",
            "Epoch 3/50\n",
            "44/44 [==============================] - 2s 37ms/step - loss: 0.6033 - acc: 0.6826 - val_loss: 0.6297 - val_acc: 0.6406\n",
            "Epoch 4/50\n",
            "44/44 [==============================] - 2s 38ms/step - loss: 0.5765 - acc: 0.7117 - val_loss: 0.5669 - val_acc: 0.7130\n",
            "Epoch 5/50\n",
            "44/44 [==============================] - 2s 38ms/step - loss: 0.5607 - acc: 0.7240 - val_loss: 0.6097 - val_acc: 0.5971\n",
            "Epoch 6/50\n",
            "44/44 [==============================] - 2s 37ms/step - loss: 0.5474 - acc: 0.7320 - val_loss: 0.6411 - val_acc: 0.5739\n",
            "Epoch 7/50\n",
            "44/44 [==============================] - 2s 38ms/step - loss: 0.5391 - acc: 0.7415 - val_loss: 0.6040 - val_acc: 0.6696\n",
            "Epoch 8/50\n",
            "44/44 [==============================] - 2s 38ms/step - loss: 0.5338 - acc: 0.7255 - val_loss: 0.5638 - val_acc: 0.7188\n",
            "Epoch 9/50\n",
            "44/44 [==============================] - 2s 38ms/step - loss: 0.5235 - acc: 0.7378 - val_loss: 0.5348 - val_acc: 0.7362\n",
            "Epoch 10/50\n",
            "44/44 [==============================] - 2s 38ms/step - loss: 0.5199 - acc: 0.7386 - val_loss: 0.5651 - val_acc: 0.7188\n",
            "Epoch 11/50\n",
            "44/44 [==============================] - 2s 37ms/step - loss: 0.5157 - acc: 0.7378 - val_loss: 0.5127 - val_acc: 0.7478\n",
            "Epoch 12/50\n",
            "44/44 [==============================] - 2s 38ms/step - loss: 0.5047 - acc: 0.7669 - val_loss: 0.5006 - val_acc: 0.7507\n",
            "Epoch 13/50\n",
            "44/44 [==============================] - 2s 38ms/step - loss: 0.4987 - acc: 0.7633 - val_loss: 0.5713 - val_acc: 0.7246\n",
            "Epoch 14/50\n",
            "44/44 [==============================] - 2s 38ms/step - loss: 0.4958 - acc: 0.7545 - val_loss: 0.4954 - val_acc: 0.7797\n",
            "Epoch 15/50\n",
            "44/44 [==============================] - 2s 37ms/step - loss: 0.4889 - acc: 0.7640 - val_loss: 0.5502 - val_acc: 0.7101\n",
            "Epoch 16/50\n",
            "44/44 [==============================] - 2s 38ms/step - loss: 0.4908 - acc: 0.7603 - val_loss: 0.5628 - val_acc: 0.6725\n",
            "Epoch 17/50\n",
            "44/44 [==============================] - 2s 38ms/step - loss: 0.4855 - acc: 0.7669 - val_loss: 0.5777 - val_acc: 0.6783\n",
            "Epoch 18/50\n",
            "44/44 [==============================] - 2s 38ms/step - loss: 0.4798 - acc: 0.7727 - val_loss: 0.5119 - val_acc: 0.7391\n",
            "Epoch 19/50\n",
            "44/44 [==============================] - 2s 38ms/step - loss: 0.4809 - acc: 0.7698 - val_loss: 0.4978 - val_acc: 0.7710\n",
            "Epoch 20/50\n",
            "44/44 [==============================] - 2s 37ms/step - loss: 0.4779 - acc: 0.7734 - val_loss: 0.5243 - val_acc: 0.7333\n",
            "Epoch 21/50\n",
            "44/44 [==============================] - 2s 38ms/step - loss: 0.4738 - acc: 0.7800 - val_loss: 0.5194 - val_acc: 0.7391\n",
            "Epoch 22/50\n",
            "44/44 [==============================] - 2s 37ms/step - loss: 0.4755 - acc: 0.7698 - val_loss: 0.5195 - val_acc: 0.7536\n",
            "Epoch 23/50\n",
            "44/44 [==============================] - 2s 38ms/step - loss: 0.4679 - acc: 0.7792 - val_loss: 0.4979 - val_acc: 0.7739\n",
            "Epoch 24/50\n",
            "44/44 [==============================] - 2s 37ms/step - loss: 0.4718 - acc: 0.7821 - val_loss: 0.4922 - val_acc: 0.7623\n",
            "Epoch 25/50\n",
            "44/44 [==============================] - 2s 38ms/step - loss: 0.4641 - acc: 0.7814 - val_loss: 0.5275 - val_acc: 0.7536\n",
            "Epoch 26/50\n",
            "44/44 [==============================] - 2s 37ms/step - loss: 0.4665 - acc: 0.7720 - val_loss: 0.5470 - val_acc: 0.7362\n",
            "Epoch 27/50\n",
            "44/44 [==============================] - 2s 38ms/step - loss: 0.4606 - acc: 0.7792 - val_loss: 0.4965 - val_acc: 0.7681\n",
            "Epoch 28/50\n",
            "44/44 [==============================] - 2s 38ms/step - loss: 0.4659 - acc: 0.7771 - val_loss: 0.5134 - val_acc: 0.7420\n",
            "Epoch 29/50\n",
            "44/44 [==============================] - 2s 39ms/step - loss: 0.4627 - acc: 0.7821 - val_loss: 0.4967 - val_acc: 0.7594\n",
            "Epoch 30/50\n",
            "44/44 [==============================] - 2s 38ms/step - loss: 0.4641 - acc: 0.7829 - val_loss: 0.5025 - val_acc: 0.7797\n",
            "Epoch 31/50\n",
            "44/44 [==============================] - 2s 38ms/step - loss: 0.4539 - acc: 0.7879 - val_loss: 0.5104 - val_acc: 0.7594\n",
            "Epoch 32/50\n",
            "44/44 [==============================] - 2s 38ms/step - loss: 0.4567 - acc: 0.7843 - val_loss: 0.5086 - val_acc: 0.7739\n",
            "Epoch 33/50\n",
            "44/44 [==============================] - 2s 38ms/step - loss: 0.4499 - acc: 0.7967 - val_loss: 0.5065 - val_acc: 0.7623\n",
            "Epoch 34/50\n",
            "44/44 [==============================] - 2s 38ms/step - loss: 0.4573 - acc: 0.7923 - val_loss: 0.5882 - val_acc: 0.7072\n",
            "Epoch 35/50\n",
            "44/44 [==============================] - 2s 38ms/step - loss: 0.4588 - acc: 0.7872 - val_loss: 0.5044 - val_acc: 0.7594\n",
            "Epoch 36/50\n",
            "44/44 [==============================] - 2s 37ms/step - loss: 0.4483 - acc: 0.7967 - val_loss: 0.5147 - val_acc: 0.7536\n",
            "Epoch 37/50\n",
            "44/44 [==============================] - 2s 37ms/step - loss: 0.4450 - acc: 0.7959 - val_loss: 0.4976 - val_acc: 0.7623\n",
            "Epoch 38/50\n",
            "44/44 [==============================] - 2s 38ms/step - loss: 0.4473 - acc: 0.8003 - val_loss: 0.5005 - val_acc: 0.7652\n",
            "Epoch 39/50\n",
            "44/44 [==============================] - 2s 38ms/step - loss: 0.4441 - acc: 0.7916 - val_loss: 0.5025 - val_acc: 0.7710\n",
            "Epoch 40/50\n",
            "44/44 [==============================] - 2s 38ms/step - loss: 0.4381 - acc: 0.7996 - val_loss: 0.5410 - val_acc: 0.7478\n",
            "Epoch 41/50\n",
            "44/44 [==============================] - 2s 38ms/step - loss: 0.4452 - acc: 0.7981 - val_loss: 0.5204 - val_acc: 0.7623\n",
            "Epoch 42/50\n",
            "44/44 [==============================] - 2s 38ms/step - loss: 0.4407 - acc: 0.7974 - val_loss: 0.5065 - val_acc: 0.7507\n",
            "Epoch 43/50\n",
            "44/44 [==============================] - 2s 38ms/step - loss: 0.4316 - acc: 0.8039 - val_loss: 0.5187 - val_acc: 0.7362\n",
            "Epoch 44/50\n",
            "44/44 [==============================] - 2s 39ms/step - loss: 0.4340 - acc: 0.8061 - val_loss: 0.5171 - val_acc: 0.7391\n",
            "Epoch 45/50\n",
            "44/44 [==============================] - 2s 38ms/step - loss: 0.4295 - acc: 0.8054 - val_loss: 0.5280 - val_acc: 0.7449\n",
            "Epoch 46/50\n",
            "44/44 [==============================] - 2s 38ms/step - loss: 0.4265 - acc: 0.8155 - val_loss: 0.5476 - val_acc: 0.7391\n",
            "Epoch 47/50\n",
            "44/44 [==============================] - 2s 38ms/step - loss: 0.4297 - acc: 0.8112 - val_loss: 0.5229 - val_acc: 0.7565\n",
            "Epoch 48/50\n",
            "44/44 [==============================] - 2s 38ms/step - loss: 0.4240 - acc: 0.8076 - val_loss: 0.5015 - val_acc: 0.7420\n",
            "Epoch 49/50\n",
            "44/44 [==============================] - 2s 38ms/step - loss: 0.4261 - acc: 0.8126 - val_loss: 0.5112 - val_acc: 0.7507\n",
            "Epoch 50/50\n",
            "44/44 [==============================] - 2s 39ms/step - loss: 0.4206 - acc: 0.8141 - val_loss: 0.5157 - val_acc: 0.7536\n"
          ]
        }
      ]
    },
    {
      "cell_type": "code",
      "metadata": {
        "id": "H-eICgBtMTmN",
        "colab": {
          "base_uri": "https://localhost:8080/",
          "height": 545
        },
        "outputId": "f6bff5be-a80c-464d-933c-98508ac8449e"
      },
      "source": [
        "\n",
        "acc = history.history['acc']\n",
        "val_acc = history.history['val_acc']\n",
        "loss = history.history['loss']\n",
        "val_loss = history.history['val_loss']\n",
        "\n",
        "epochs = range(1, len(acc) + 1)\n",
        "\n",
        "plt.plot(epochs, acc, 'go', label='Training acc')\n",
        "plt.plot(epochs, val_acc, 'g', label='Validation acc')\n",
        "plt.title('Training vs Validation accuracy')\n",
        "plt.legend()\n",
        "\n",
        "plt.figure()\n",
        "\n",
        "plt.plot(epochs, loss, 'ro', label='Training loss')\n",
        "plt.plot(epochs, val_loss, 'r', label='Validation loss')\n",
        "plt.title('Training vs Validation loss')\n",
        "plt.legend()\n",
        "\n",
        "plt.show()"
      ],
      "execution_count": 89,
      "outputs": [
        {
          "output_type": "display_data",
          "data": {
            "image/png": "[encoded data removed]",
            "text/plain": [
              "<Figure size 432x288 with 1 Axes>"
            ]
          },
          "metadata": {
            "needs_background": "light"
          }
        },
        {
          "output_type": "display_data",
          "data": {
            "image/png": "[encoded data removed]",
            "text/plain": [
              "<Figure size 432x288 with 1 Axes>"
            ]
          },
          "metadata": {
            "needs_background": "light"
          }
        }
      ]
    },
    {
      "cell_type": "markdown",
      "metadata": {
        "id": "ifqfz_F98RCT"
      },
      "source": [
        "We can see that the Model performed better than the Previous case\n",
        "   \n",
        "\n",
        "*   Fluctuation Of Validation Accuracy curve reduced\n",
        "*   Validation accuracy increased to 75%\n",
        "\n",
        "But,\n",
        "\n",
        "When we look at the loss curve,We can observe that the training loss and validation loss curves went in different directions\n",
        "\n",
        "This indicates that our model is **Over-fitting**\n",
        "\n"
      ]
    },
    {
      "cell_type": "markdown",
      "metadata": {
        "id": "3irEZ2iV9YTh"
      },
      "source": [
        "Retraining the previous model by adding **Dropouts**"
      ]
    },
    {
      "cell_type": "code",
      "metadata": {
        "id": "KeOWIKXlXAns"
      },
      "source": [
        "units = 32\n",
        "\n",
        "model = Sequential()\n",
        "model.add(Embedding(num_events, embedding_dim))\n",
        "model.add(LSTM(units, dropout=0.3, recurrent_dropout=0.2))\n",
        "model.add(Dense(1, activation='sigmoid'))"
      ],
      "execution_count": 104,
      "outputs": []
    },
    {
      "cell_type": "code",
      "metadata": {
        "id": "f4DkGAnpL5Y7"
      },
      "source": [
        "model.layers[0].set_weights([embedding_matrix])\n",
        "model.layers[0].trainable = True"
      ],
      "execution_count": 105,
      "outputs": []
    },
    {
      "cell_type": "code",
      "metadata": {
        "id": "e5qtVwUrL6zN",
        "colab": {
          "base_uri": "https://localhost:8080/"
        },
        "outputId": "3295d0f7-3053-4345-8f30-7b1e5ae46266"
      },
      "source": [
        "model.compile(optimizer='rmsprop',\n",
        "              loss='binary_crossentropy',\n",
        "              metrics=['acc'])\n",
        "history = model.fit(X_train, y_train,\n",
        "                    epochs=50,\n",
        "                    batch_size=32,\n",
        "                    validation_data=(X_valid, y_valid))\n",
        "model.save(\"Final-trafficmodel.h5\")"
      ],
      "execution_count": 106,
      "outputs": [
        {
          "output_type": "stream",
          "name": "stdout",
          "text": [
            "Epoch 1/50\n",
            "44/44 [==============================] - 7s 94ms/step - loss: 0.6787 - acc: 0.5795 - val_loss: 0.7169 - val_acc: 0.4899\n",
            "Epoch 2/50\n",
            "44/44 [==============================] - 4s 87ms/step - loss: 0.6536 - acc: 0.6245 - val_loss: 0.6672 - val_acc: 0.6000\n",
            "Epoch 3/50\n",
            "44/44 [==============================] - 4s 87ms/step - loss: 0.6258 - acc: 0.6587 - val_loss: 0.6419 - val_acc: 0.5507\n",
            "Epoch 4/50\n",
            "44/44 [==============================] - 4s 86ms/step - loss: 0.6015 - acc: 0.6768 - val_loss: 0.6303 - val_acc: 0.5420\n",
            "Epoch 5/50\n",
            "44/44 [==============================] - 4s 87ms/step - loss: 0.5925 - acc: 0.7008 - val_loss: 0.6752 - val_acc: 0.6029\n",
            "Epoch 6/50\n",
            "44/44 [==============================] - 4s 87ms/step - loss: 0.5862 - acc: 0.6885 - val_loss: 0.5525 - val_acc: 0.7159\n",
            "Epoch 7/50\n",
            "44/44 [==============================] - 4s 88ms/step - loss: 0.5744 - acc: 0.7131 - val_loss: 0.5635 - val_acc: 0.6986\n",
            "Epoch 8/50\n",
            "44/44 [==============================] - 4s 87ms/step - loss: 0.5621 - acc: 0.7102 - val_loss: 0.5715 - val_acc: 0.6783\n",
            "Epoch 9/50\n",
            "44/44 [==============================] - 4s 87ms/step - loss: 0.5535 - acc: 0.7233 - val_loss: 0.5252 - val_acc: 0.7420\n",
            "Epoch 10/50\n",
            "44/44 [==============================] - 4s 87ms/step - loss: 0.5503 - acc: 0.7211 - val_loss: 0.5862 - val_acc: 0.6783\n",
            "Epoch 11/50\n",
            "44/44 [==============================] - 4s 87ms/step - loss: 0.5438 - acc: 0.7306 - val_loss: 0.5392 - val_acc: 0.7246\n",
            "Epoch 12/50\n",
            "44/44 [==============================] - 4s 87ms/step - loss: 0.5423 - acc: 0.7255 - val_loss: 0.5354 - val_acc: 0.7217\n",
            "Epoch 13/50\n",
            "44/44 [==============================] - 4s 87ms/step - loss: 0.5399 - acc: 0.7226 - val_loss: 0.5345 - val_acc: 0.7333\n",
            "Epoch 14/50\n",
            "44/44 [==============================] - 4s 87ms/step - loss: 0.5324 - acc: 0.7298 - val_loss: 0.5093 - val_acc: 0.7275\n",
            "Epoch 15/50\n",
            "44/44 [==============================] - 4s 87ms/step - loss: 0.5358 - acc: 0.7415 - val_loss: 0.5661 - val_acc: 0.7043\n",
            "Epoch 16/50\n",
            "44/44 [==============================] - 4s 88ms/step - loss: 0.5276 - acc: 0.7313 - val_loss: 0.5206 - val_acc: 0.7275\n",
            "Epoch 17/50\n",
            "44/44 [==============================] - 4s 88ms/step - loss: 0.5260 - acc: 0.7357 - val_loss: 0.5166 - val_acc: 0.7275\n",
            "Epoch 18/50\n",
            "44/44 [==============================] - 4s 88ms/step - loss: 0.5264 - acc: 0.7357 - val_loss: 0.5165 - val_acc: 0.7478\n",
            "Epoch 19/50\n",
            "44/44 [==============================] - 4s 88ms/step - loss: 0.5187 - acc: 0.7386 - val_loss: 0.5097 - val_acc: 0.7246\n",
            "Epoch 20/50\n",
            "44/44 [==============================] - 4s 87ms/step - loss: 0.5223 - acc: 0.7429 - val_loss: 0.5533 - val_acc: 0.7014\n",
            "Epoch 21/50\n",
            "44/44 [==============================] - 4s 88ms/step - loss: 0.5168 - acc: 0.7436 - val_loss: 0.5027 - val_acc: 0.7478\n",
            "Epoch 22/50\n",
            "44/44 [==============================] - 4s 88ms/step - loss: 0.5132 - acc: 0.7458 - val_loss: 0.4977 - val_acc: 0.7594\n",
            "Epoch 23/50\n",
            "44/44 [==============================] - 4s 88ms/step - loss: 0.5078 - acc: 0.7531 - val_loss: 0.5138 - val_acc: 0.7420\n",
            "Epoch 24/50\n",
            "44/44 [==============================] - 4s 88ms/step - loss: 0.5130 - acc: 0.7502 - val_loss: 0.5099 - val_acc: 0.7449\n",
            "Epoch 25/50\n",
            "44/44 [==============================] - 4s 89ms/step - loss: 0.5106 - acc: 0.7531 - val_loss: 0.4964 - val_acc: 0.7681\n",
            "Epoch 26/50\n",
            "44/44 [==============================] - 4s 88ms/step - loss: 0.5075 - acc: 0.7574 - val_loss: 0.5030 - val_acc: 0.7594\n",
            "Epoch 27/50\n",
            "44/44 [==============================] - 4s 87ms/step - loss: 0.5050 - acc: 0.7473 - val_loss: 0.5030 - val_acc: 0.7710\n",
            "Epoch 28/50\n",
            "44/44 [==============================] - 4s 87ms/step - loss: 0.5042 - acc: 0.7553 - val_loss: 0.5097 - val_acc: 0.7565\n",
            "Epoch 29/50\n",
            "44/44 [==============================] - 4s 87ms/step - loss: 0.4967 - acc: 0.7582 - val_loss: 0.5239 - val_acc: 0.7362\n",
            "Epoch 30/50\n",
            "44/44 [==============================] - 4s 88ms/step - loss: 0.4949 - acc: 0.7654 - val_loss: 0.5055 - val_acc: 0.7681\n",
            "Epoch 31/50\n",
            "44/44 [==============================] - 4s 87ms/step - loss: 0.4956 - acc: 0.7662 - val_loss: 0.5006 - val_acc: 0.7594\n",
            "Epoch 32/50\n",
            "44/44 [==============================] - 4s 88ms/step - loss: 0.4946 - acc: 0.7596 - val_loss: 0.4940 - val_acc: 0.7710\n",
            "Epoch 33/50\n",
            "44/44 [==============================] - 4s 88ms/step - loss: 0.4931 - acc: 0.7705 - val_loss: 0.4956 - val_acc: 0.7681\n",
            "Epoch 34/50\n",
            "44/44 [==============================] - 4s 88ms/step - loss: 0.4887 - acc: 0.7734 - val_loss: 0.4898 - val_acc: 0.7739\n",
            "Epoch 35/50\n",
            "44/44 [==============================] - 4s 88ms/step - loss: 0.4950 - acc: 0.7662 - val_loss: 0.5168 - val_acc: 0.7536\n",
            "Epoch 36/50\n",
            "44/44 [==============================] - 4s 88ms/step - loss: 0.4899 - acc: 0.7683 - val_loss: 0.5134 - val_acc: 0.7507\n",
            "Epoch 37/50\n",
            "44/44 [==============================] - 4s 88ms/step - loss: 0.4908 - acc: 0.7691 - val_loss: 0.5485 - val_acc: 0.7333\n",
            "Epoch 38/50\n",
            "44/44 [==============================] - 4s 88ms/step - loss: 0.4883 - acc: 0.7669 - val_loss: 0.5031 - val_acc: 0.7536\n",
            "Epoch 39/50\n",
            "44/44 [==============================] - 4s 89ms/step - loss: 0.4845 - acc: 0.7705 - val_loss: 0.5118 - val_acc: 0.7536\n",
            "Epoch 40/50\n",
            "44/44 [==============================] - 4s 89ms/step - loss: 0.4853 - acc: 0.7727 - val_loss: 0.4992 - val_acc: 0.7710\n",
            "Epoch 41/50\n",
            "44/44 [==============================] - 4s 89ms/step - loss: 0.4844 - acc: 0.7676 - val_loss: 0.4937 - val_acc: 0.7710\n",
            "Epoch 42/50\n",
            "44/44 [==============================] - 4s 87ms/step - loss: 0.4917 - acc: 0.7741 - val_loss: 0.5200 - val_acc: 0.7507\n",
            "Epoch 43/50\n",
            "44/44 [==============================] - 4s 88ms/step - loss: 0.4714 - acc: 0.7821 - val_loss: 0.4960 - val_acc: 0.7681\n",
            "Epoch 44/50\n",
            "44/44 [==============================] - 4s 87ms/step - loss: 0.4759 - acc: 0.7858 - val_loss: 0.5002 - val_acc: 0.7652\n",
            "Epoch 45/50\n",
            "44/44 [==============================] - 4s 88ms/step - loss: 0.4743 - acc: 0.7814 - val_loss: 0.5064 - val_acc: 0.7681\n",
            "Epoch 46/50\n",
            "44/44 [==============================] - 4s 88ms/step - loss: 0.4767 - acc: 0.7756 - val_loss: 0.5150 - val_acc: 0.7507\n",
            "Epoch 47/50\n",
            "44/44 [==============================] - 4s 88ms/step - loss: 0.4719 - acc: 0.7865 - val_loss: 0.5033 - val_acc: 0.7594\n",
            "Epoch 48/50\n",
            "44/44 [==============================] - 4s 88ms/step - loss: 0.4725 - acc: 0.7843 - val_loss: 0.5060 - val_acc: 0.7507\n",
            "Epoch 49/50\n",
            "44/44 [==============================] - 4s 89ms/step - loss: 0.4773 - acc: 0.7720 - val_loss: 0.5004 - val_acc: 0.7594\n",
            "Epoch 50/50\n",
            "44/44 [==============================] - 4s 88ms/step - loss: 0.4761 - acc: 0.7712 - val_loss: 0.5457 - val_acc: 0.7159\n"
          ]
        }
      ]
    },
    {
      "cell_type": "code",
      "metadata": {
        "id": "YNZfbHF7L8w4",
        "colab": {
          "base_uri": "https://localhost:8080/",
          "height": 545
        },
        "outputId": "a07dca1a-b380-4bad-fea8-32c18c482b7d"
      },
      "source": [
        "acc = history.history['acc']\n",
        "val_acc = history.history['val_acc']\n",
        "loss = history.history['loss']\n",
        "val_loss = history.history['val_loss']\n",
        "\n",
        "epochs = range(1, len(acc) + 1)\n",
        "\n",
        "plt.plot(epochs, acc, 'go', label='Training acc')\n",
        "plt.plot(epochs, val_acc, 'g', label='Validation acc')\n",
        "plt.title('Training vs Validation accuracy')\n",
        "plt.legend()\n",
        "\n",
        "plt.figure()\n",
        "\n",
        "plt.plot(epochs, loss, 'ro', label='Training loss')\n",
        "plt.plot(epochs, val_loss, 'r', label='Validation loss')\n",
        "plt.title('Training vs Validation loss')\n",
        "plt.legend()\n",
        "\n",
        "plt.show()"
      ],
      "execution_count": 107,
      "outputs": [
        {
          "output_type": "display_data",
          "data": {
            "image/png": "[encoded data removed]",
            "text/plain": [
              "<Figure size 432x288 with 1 Axes>"
            ]
          },
          "metadata": {
            "needs_background": "light"
          }
        },
        {
          "output_type": "display_data",
          "data": {
            "image/png": "[encoded data removed]",
            "text/plain": [
              "<Figure size 432x288 with 1 Axes>"
            ]
          },
          "metadata": {
            "needs_background": "light"
          }
        }
      ]
    },
    {
      "cell_type": "markdown",
      "metadata": {
        "id": "gdjlowIp-zwR"
      },
      "source": [
        "We can observe that validation curve has become smoother indicating that over-fitting has been addressed"
      ]
    }
  ]
}